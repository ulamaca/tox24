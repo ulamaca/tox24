{
 "cells": [
  {
   "cell_type": "code",
   "execution_count": 1,
   "metadata": {},
   "outputs": [],
   "source": [
    "import sys\n",
    "import numpy as np\n",
    "import pandas as pd\n",
    "from rdkit import Chem\n",
    "from rdkit.Chem import PandasTools"
   ]
  },
  {
   "cell_type": "code",
   "execution_count": 2,
   "metadata": {},
   "outputs": [],
   "source": [
    "train_data_path = '../data/tox24_challenge_train.csv'\n",
    "test_data_path = '../data/tox24_challenge_test.csv'\n",
    "all_data_path = '../data/tox24_all.csv'\n",
    "all_data_with_pc_data_path = '../data/tox24_alogps_oestate.csv'\n",
    "\n",
    "df = pd.read_csv(all_data_with_pc_data_path)\n",
    "df_train = pd.read_csv(train_data_path)\n",
    "df_test = pd.read_csv(test_data_path)"
   ]
  },
  {
   "cell_type": "code",
   "execution_count": 3,
   "metadata": {},
   "outputs": [
    {
     "data": {
      "text/html": [
       "<div>\n",
       "<style scoped>\n",
       "    .dataframe tbody tr th:only-of-type {\n",
       "        vertical-align: middle;\n",
       "    }\n",
       "\n",
       "    .dataframe tbody tr th {\n",
       "        vertical-align: top;\n",
       "    }\n",
       "\n",
       "    .dataframe thead th {\n",
       "        text-align: right;\n",
       "    }\n",
       "</style>\n",
       "<table border=\"1\" class=\"dataframe\">\n",
       "  <thead>\n",
       "    <tr style=\"text-align: right;\">\n",
       "      <th></th>\n",
       "      <th>SMILES</th>\n",
       "      <th>N</th>\n",
       "      <th>ALogPS_logP</th>\n",
       "      <th>ALogPS_logS</th>\n",
       "      <th>HALOG</th>\n",
       "      <th>MW</th>\n",
       "      <th>N.1</th>\n",
       "      <th>NA</th>\n",
       "      <th>NH</th>\n",
       "      <th>O</th>\n",
       "      <th>...</th>\n",
       "      <th>Se1C2N2dd</th>\n",
       "      <th>Se1C2N==sd</th>\n",
       "      <th>SdddN</th>\n",
       "      <th>SdddN(nitro)</th>\n",
       "      <th>Se2N3O1d</th>\n",
       "      <th>SddSi</th>\n",
       "      <th>Se2O1Si2d</th>\n",
       "      <th>Se1B3C3sa</th>\n",
       "      <th>Se1N3pO1a</th>\n",
       "      <th>SeaC2N3paa</th>\n",
       "    </tr>\n",
       "  </thead>\n",
       "  <tbody>\n",
       "    <tr>\n",
       "      <th>813</th>\n",
       "      <td>COCCOCCO</td>\n",
       "      <td>814</td>\n",
       "      <td>-0.67</td>\n",
       "      <td>0.52</td>\n",
       "      <td>0</td>\n",
       "      <td>120.2</td>\n",
       "      <td>0</td>\n",
       "      <td>8</td>\n",
       "      <td>12</td>\n",
       "      <td>3</td>\n",
       "      <td>...</td>\n",
       "      <td>0.0</td>\n",
       "      <td>0.0</td>\n",
       "      <td>0.0</td>\n",
       "      <td>0.0</td>\n",
       "      <td>0.0</td>\n",
       "      <td>0.0</td>\n",
       "      <td>0.0</td>\n",
       "      <td>0.0</td>\n",
       "      <td>0.0</td>\n",
       "      <td>0.0</td>\n",
       "    </tr>\n",
       "  </tbody>\n",
       "</table>\n",
       "<p>1 rows × 368 columns</p>\n",
       "</div>"
      ],
      "text/plain": [
       "       SMILES    N  ALogPS_logP  ALogPS_logS  HALOG     MW  N.1  NA  NH  O  \\\n",
       "813  COCCOCCO  814        -0.67         0.52      0  120.2    0   8  12  3   \n",
       "\n",
       "     ...  Se1C2N2dd  Se1C2N==sd  SdddN  SdddN(nitro)  Se2N3O1d  SddSi  \\\n",
       "813  ...        0.0         0.0    0.0           0.0       0.0    0.0   \n",
       "\n",
       "     Se2O1Si2d  Se1B3C3sa  Se1N3pO1a  SeaC2N3paa  \n",
       "813        0.0        0.0        0.0         0.0  \n",
       "\n",
       "[1 rows x 368 columns]"
      ]
     },
     "execution_count": 3,
     "metadata": {},
     "output_type": "execute_result"
    }
   ],
   "source": [
    "# there is one duplicate in \n",
    "df[df['SMILES'].duplicated()]"
   ]
  },
  {
   "cell_type": "code",
   "execution_count": 4,
   "metadata": {},
   "outputs": [
    {
     "data": {
      "text/html": [
       "<div>\n",
       "<style scoped>\n",
       "    .dataframe tbody tr th:only-of-type {\n",
       "        vertical-align: middle;\n",
       "    }\n",
       "\n",
       "    .dataframe tbody tr th {\n",
       "        vertical-align: top;\n",
       "    }\n",
       "\n",
       "    .dataframe thead th {\n",
       "        text-align: right;\n",
       "    }\n",
       "</style>\n",
       "<table border=\"1\" class=\"dataframe\">\n",
       "  <thead>\n",
       "    <tr style=\"text-align: right;\">\n",
       "      <th></th>\n",
       "      <th>SMILES</th>\n",
       "      <th>N</th>\n",
       "      <th>ALogPS_logP</th>\n",
       "      <th>ALogPS_logS</th>\n",
       "      <th>HALOG</th>\n",
       "      <th>MW</th>\n",
       "      <th>N.1</th>\n",
       "      <th>NA</th>\n",
       "      <th>NH</th>\n",
       "      <th>O</th>\n",
       "      <th>...</th>\n",
       "      <th>Se1C2N2dd</th>\n",
       "      <th>Se1C2N==sd</th>\n",
       "      <th>SdddN</th>\n",
       "      <th>SdddN(nitro)</th>\n",
       "      <th>Se2N3O1d</th>\n",
       "      <th>SddSi</th>\n",
       "      <th>Se2O1Si2d</th>\n",
       "      <th>Se1B3C3sa</th>\n",
       "      <th>Se1N3pO1a</th>\n",
       "      <th>SeaC2N3paa</th>\n",
       "    </tr>\n",
       "  </thead>\n",
       "  <tbody>\n",
       "    <tr>\n",
       "      <th>752</th>\n",
       "      <td>COCCOCCO</td>\n",
       "      <td>753</td>\n",
       "      <td>-0.67</td>\n",
       "      <td>0.52</td>\n",
       "      <td>0</td>\n",
       "      <td>120.2</td>\n",
       "      <td>0</td>\n",
       "      <td>8</td>\n",
       "      <td>12</td>\n",
       "      <td>3</td>\n",
       "      <td>...</td>\n",
       "      <td>0.0</td>\n",
       "      <td>0.0</td>\n",
       "      <td>0.0</td>\n",
       "      <td>0.0</td>\n",
       "      <td>0.0</td>\n",
       "      <td>0.0</td>\n",
       "      <td>0.0</td>\n",
       "      <td>0.0</td>\n",
       "      <td>0.0</td>\n",
       "      <td>0.0</td>\n",
       "    </tr>\n",
       "    <tr>\n",
       "      <th>813</th>\n",
       "      <td>COCCOCCO</td>\n",
       "      <td>814</td>\n",
       "      <td>-0.67</td>\n",
       "      <td>0.52</td>\n",
       "      <td>0</td>\n",
       "      <td>120.2</td>\n",
       "      <td>0</td>\n",
       "      <td>8</td>\n",
       "      <td>12</td>\n",
       "      <td>3</td>\n",
       "      <td>...</td>\n",
       "      <td>0.0</td>\n",
       "      <td>0.0</td>\n",
       "      <td>0.0</td>\n",
       "      <td>0.0</td>\n",
       "      <td>0.0</td>\n",
       "      <td>0.0</td>\n",
       "      <td>0.0</td>\n",
       "      <td>0.0</td>\n",
       "      <td>0.0</td>\n",
       "      <td>0.0</td>\n",
       "    </tr>\n",
       "  </tbody>\n",
       "</table>\n",
       "<p>2 rows × 368 columns</p>\n",
       "</div>"
      ],
      "text/plain": [
       "       SMILES    N  ALogPS_logP  ALogPS_logS  HALOG     MW  N.1  NA  NH  O  \\\n",
       "752  COCCOCCO  753        -0.67         0.52      0  120.2    0   8  12  3   \n",
       "813  COCCOCCO  814        -0.67         0.52      0  120.2    0   8  12  3   \n",
       "\n",
       "     ...  Se1C2N2dd  Se1C2N==sd  SdddN  SdddN(nitro)  Se2N3O1d  SddSi  \\\n",
       "752  ...        0.0         0.0    0.0           0.0       0.0    0.0   \n",
       "813  ...        0.0         0.0    0.0           0.0       0.0    0.0   \n",
       "\n",
       "     Se2O1Si2d  Se1B3C3sa  Se1N3pO1a  SeaC2N3paa  \n",
       "752        0.0        0.0        0.0         0.0  \n",
       "813        0.0        0.0        0.0         0.0  \n",
       "\n",
       "[2 rows x 368 columns]"
      ]
     },
     "execution_count": 4,
     "metadata": {},
     "output_type": "execute_result"
    }
   ],
   "source": [
    "df.query(f'SMILES == \"COCCOCCO\"')"
   ]
  },
  {
   "cell_type": "code",
   "execution_count": 5,
   "metadata": {},
   "outputs": [],
   "source": [
    "df.drop_duplicates(subset=['SMILES'], inplace=True)"
   ]
  },
  {
   "cell_type": "code",
   "execution_count": 6,
   "metadata": {},
   "outputs": [
    {
     "name": "stderr",
     "output_type": "stream",
     "text": [
      "/tmp/ipykernel_8526/1483346199.py:4: SettingWithCopyWarning: \n",
      "A value is trying to be set on a copy of a slice from a DataFrame.\n",
      "Try using .loc[row_indexer,col_indexer] = value instead\n",
      "\n",
      "See the caveats in the documentation: https://pandas.pydata.org/pandas-docs/stable/user_guide/indexing.html#returning-a-view-versus-a-copy\n",
      "  df_12['split'] = 'test'\n"
     ]
    }
   ],
   "source": [
    "df_11 = pd.merge(df, df_train, on='SMILES')\n",
    "df_11['split'] = 'train'\n",
    "df_12 = df[~df.index.isin(df_11.index)]\n",
    "df_12['split'] = 'test'\n",
    "df_1 = pd.concat([df_11, df_12], axis=0)\n",
    "PandasTools.AddMoleculeColumnToFrame(df_1, smilesCol='SMILES')"
   ]
  },
  {
   "cell_type": "code",
   "execution_count": 7,
   "metadata": {},
   "outputs": [
    {
     "data": {
      "image/png": "[encoded data removed]",
      "text/plain": [
       "<PIL.Image.Image image mode=RGBA size=2000x200>"
      ]
     },
     "execution_count": 7,
     "metadata": {},
     "output_type": "execute_result"
    }
   ],
   "source": [
    "# visualize compounds\n",
    "# tools: TMAP, UMAP,\n",
    "n_sample = 10\n",
    "Chem.Draw.MolsToImage(df_1.sample(n_sample)['ROMol'].to_list())"
   ]
  },
  {
   "cell_type": "code",
   "execution_count": 8,
   "metadata": {},
   "outputs": [
    {
     "data": {
      "text/plain": [
       "count    1012.000000\n",
       "mean       40.813043\n",
       "std        36.512641\n",
       "min       -45.000000\n",
       "25%        11.050000\n",
       "50%        30.000000\n",
       "75%        73.300000\n",
       "max       111.100000\n",
       "Name: activity, dtype: float64"
      ]
     },
     "execution_count": 8,
     "metadata": {},
     "output_type": "execute_result"
    }
   ],
   "source": [
    "df_1['activity'].describe()"
   ]
  },
  {
   "cell_type": "code",
   "execution_count": 9,
   "metadata": {},
   "outputs": [],
   "source": [
    "from rdkit.Chem import AllChem\n",
    "fpgen = AllChem.GetMorganGenerator(radius=2)\n",
    "df_1['morgan_fp'] = df_1['ROMol'].apply(fpgen.GetFingerprint)"
   ]
  },
  {
   "cell_type": "code",
   "execution_count": 10,
   "metadata": {},
   "outputs": [],
   "source": [
    "# to make it data\n",
    "#df_1['morgan_fp'].apply(np.array).to_list()"
   ]
  },
  {
   "cell_type": "code",
   "execution_count": 11,
   "metadata": {},
   "outputs": [
    {
     "name": "stderr",
     "output_type": "stream",
     "text": [
      "/home/ulamaca/projects/8_minal_pyhton_env/0_minimal_python3_env/minimal_ds/lib/python3.9/site-packages/tqdm/auto.py:21: TqdmWarning: IProgress not found. Please update jupyter and ipywidgets. See https://ipywidgets.readthedocs.io/en/stable/user_install.html\n",
      "  from .autonotebook import tqdm as notebook_tqdm\n"
     ]
    }
   ],
   "source": [
    "import torch\n",
    "from torch.utils.data import DataLoader, TensorDataset"
   ]
  },
  {
   "cell_type": "code",
   "execution_count": 12,
   "metadata": {},
   "outputs": [],
   "source": [
    "df_1_train = df_1[df_1['split']=='train']\n",
    "X0_train = df_1_train.iloc[:,2:-4].values\n",
    "X1_train = np.array(df_1_train['morgan_fp'].apply(np.array).to_list())\n",
    "X_train = np.concatenate((X0_train, X1_train), axis=1)\n",
    "y_train = df_1_train['activity'].values"
   ]
  },
  {
   "cell_type": "code",
   "execution_count": 13,
   "metadata": {},
   "outputs": [],
   "source": [
    "X_train = torch.tensor(X_train, dtype=torch.float32)\n",
    "y_train = torch.tensor(y_train, dtype=torch.float32).view(-1, 1)\n",
    "#X_test = torch.tensor(X_test, dtype=torch.float32)\n",
    "#y_test = torch.tensor(y_test, dtype=torch.float32).view(-1, 1)\n"
   ]
  },
  {
   "cell_type": "code",
   "execution_count": 14,
   "metadata": {},
   "outputs": [],
   "source": [
    "import torch.nn as nn\n",
    "\n",
    "class MLPRegressor(nn.Module):\n",
    "    def __init__(self, input_dim, size_1=2048, size_2=1024, p_dropout=0.5):\n",
    "        super(MLPRegressor, self).__init__()\n",
    "        self.model = nn.Sequential(\n",
    "            nn.Linear(input_dim, size_1),\n",
    "            nn.ReLU(),\n",
    "            nn.Dropout(p_dropout),\n",
    "            nn.Linear(size_1, size_2),\n",
    "            nn.ReLU(),\n",
    "            nn.Dropout(p_dropout),\n",
    "            nn.Linear(size_2, 1)\n",
    "        )\n",
    "    \n",
    "    def forward(self, x):\n",
    "        return self.model(x)\n",
    "\n",
    "input_dim = X_train.shape[1]\n",
    "model = MLPRegressor(input_dim)"
   ]
  },
  {
   "cell_type": "code",
   "execution_count": 18,
   "metadata": {},
   "outputs": [
    {
     "name": "stdout",
     "output_type": "stream",
     "text": [
      "device= cuda\n"
     ]
    }
   ],
   "source": [
    "# put things to GPU\n",
    "device = torch.device('cuda' if torch.cuda.is_available() else 'cpu')\n",
    "print('device=', device)\n",
    "model.to(device)\n",
    "# Move data to GPU if available\n",
    "X_train = X_train.to(device)\n",
    "y_train = y_train.to(device)\n",
    "# X_test = X_test.to(device)\n",
    "# y_test = y_test.to(device)\n",
    "\n",
    "# Create DataLoader\n",
    "train_dataset = TensorDataset(X_train, y_train)\n",
    "#test_dataset = TensorDataset(X_test, y_test)\n",
    "\n",
    "train_loader = DataLoader(train_dataset, batch_size=32, shuffle=True)\n",
    "#test_loader = DataLoader(test_dataset, batch_size=32, shuffle=False)"
   ]
  },
  {
   "cell_type": "code",
   "execution_count": 20,
   "metadata": {},
   "outputs": [
    {
     "name": "stdout",
     "output_type": "stream",
     "text": [
      "Epoch [1/1000], Loss: 110.4509\n",
      "Epoch [2/1000], Loss: 110.9849\n",
      "Epoch [3/1000], Loss: 130.0380\n",
      "Epoch [4/1000], Loss: 110.2508\n",
      "Epoch [5/1000], Loss: 143.9752\n",
      "Epoch [6/1000], Loss: 142.0420\n",
      "Epoch [7/1000], Loss: 129.1075\n",
      "Epoch [8/1000], Loss: 127.6425\n",
      "Epoch [9/1000], Loss: 114.0946\n",
      "Epoch [10/1000], Loss: 103.9489\n",
      "Epoch [11/1000], Loss: 105.2264\n",
      "Epoch [12/1000], Loss: 103.8652\n",
      "Epoch [13/1000], Loss: 121.2151\n",
      "Epoch [14/1000], Loss: 118.8680\n",
      "Epoch [15/1000], Loss: 110.6299\n",
      "Epoch [16/1000], Loss: 151.2154\n",
      "Epoch [17/1000], Loss: 108.1625\n",
      "Epoch [18/1000], Loss: 129.7894\n",
      "Epoch [19/1000], Loss: 124.1538\n",
      "Epoch [20/1000], Loss: 124.7052\n",
      "Epoch [21/1000], Loss: 114.8575\n",
      "Epoch [22/1000], Loss: 95.5583\n",
      "Epoch [23/1000], Loss: 114.6313\n",
      "Epoch [24/1000], Loss: 109.6536\n",
      "Epoch [25/1000], Loss: 125.5674\n",
      "Epoch [26/1000], Loss: 120.9989\n",
      "Epoch [27/1000], Loss: 114.5643\n",
      "Epoch [28/1000], Loss: 106.0480\n",
      "Epoch [29/1000], Loss: 116.1917\n",
      "Epoch [30/1000], Loss: 115.3470\n",
      "Epoch [31/1000], Loss: 115.2578\n",
      "Epoch [32/1000], Loss: 98.8320\n",
      "Epoch [33/1000], Loss: 101.0328\n",
      "Epoch [34/1000], Loss: 104.7404\n",
      "Epoch [35/1000], Loss: 107.8850\n",
      "Epoch [36/1000], Loss: 105.7151\n",
      "Epoch [37/1000], Loss: 106.0240\n",
      "Epoch [38/1000], Loss: 108.7984\n",
      "Epoch [39/1000], Loss: 96.2895\n",
      "Epoch [40/1000], Loss: 103.7746\n",
      "Epoch [41/1000], Loss: 117.7001\n",
      "Epoch [42/1000], Loss: 105.1624\n",
      "Epoch [43/1000], Loss: 102.3754\n",
      "Epoch [44/1000], Loss: 119.8504\n",
      "Epoch [45/1000], Loss: 110.6896\n",
      "Epoch [46/1000], Loss: 118.0378\n",
      "Epoch [47/1000], Loss: 107.4397\n",
      "Epoch [48/1000], Loss: 97.6351\n",
      "Epoch [49/1000], Loss: 110.9881\n",
      "Epoch [50/1000], Loss: 107.2678\n",
      "Epoch [51/1000], Loss: 111.6386\n",
      "Epoch [52/1000], Loss: 124.6152\n"
     ]
    }
   ],
   "source": [
    "import torch.optim as optim\n",
    "\n",
    "# Define loss function and optimizer\n",
    "criterion = nn.MSELoss()\n",
    "optimizer = optim.Adam(model.parameters(), lr=0.001)\n",
    "\n",
    "# Training loop\n",
    "num_epochs = 1000\n",
    "\n",
    "for epoch in range(num_epochs):\n",
    "    model.train()\n",
    "    running_loss = 0.0\n",
    "    for inputs, targets in train_loader:\n",
    "        # Zero the parameter gradients\n",
    "        optimizer.zero_grad()\n",
    "        \n",
    "        # Forward pass\n",
    "        outputs = model(inputs)\n",
    "        loss = criterion(outputs, targets)\n",
    "        \n",
    "        # Backward pass and optimize\n",
    "        loss.backward()\n",
    "        optimizer.step()\n",
    "        \n",
    "        running_loss += loss.item()\n",
    "    \n",
    "    print(f'Epoch [{epoch+1}/{num_epochs}], Loss: {running_loss/len(train_loader):.4f}')\n"
   ]
  },
  {
   "cell_type": "code",
   "execution_count": null,
   "metadata": {},
   "outputs": [],
   "source": []
  }
 ],
 "metadata": {
  "kernelspec": {
   "display_name": "minimal_ds",
   "language": "python",
   "name": "python3"
  },
  "language_info": {
   "codemirror_mode": {
    "name": "ipython",
    "version": 3
   },
   "file_extension": ".py",
   "mimetype": "text/x-python",
   "name": "python",
   "nbconvert_exporter": "python",
   "pygments_lexer": "ipython3",
   "version": "3.9.12"
  }
 },
 "nbformat": 4,
 "nbformat_minor": 2
}
